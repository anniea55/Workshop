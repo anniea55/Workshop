{
  "nbformat": 4,
  "nbformat_minor": 0,
  "metadata": {
    "colab": {
      "name": "Copy of Review.ipynb",
      "provenance": [],
      "collapsed_sections": [
        "y2pdKKjkj-mr",
        "1l0QvcZztS93",
        "qC4CXVcK0sib",
        "vPxFgJwrOu5Y"
      ],
      "include_colab_link": true
    },
    "kernelspec": {
      "name": "python3",
      "display_name": "Python 3"
    }
  },
  "cells": [
    {
      "cell_type": "markdown",
      "metadata": {
        "id": "view-in-github",
        "colab_type": "text"
      },
      "source": [
        "<a href=\"https://colab.research.google.com/github/anniea55/Workshop/blob/master/Copy_of_Review.ipynb\" target=\"_parent\"><img src=\"https://colab.research.google.com/assets/colab-badge.svg\" alt=\"Open In Colab\"/></a>"
      ]
    },
    {
      "cell_type": "markdown",
      "metadata": {
        "id": "uhyZJdkmiqLB",
        "colab_type": "text"
      },
      "source": [
        "# Welcome to Google Colab and 313E's final review session! (Pause for applause) \n",
        "\n",
        "As Always, this will be recorded, I hope and this Notebook will be available to you for further studying! \n",
        "\n",
        "Some quick notes and how this stuff works. You can run each cell individually and get things to work and see immediate results, cool right? \n",
        "\n",
        "**Begin by making a copy of it so you can change the code around and play with it without deleting or making errors for others**\n",
        "\n",
        "Some notes on grades, how to use Piazza and what the test will look like before we jump in!\n"
      ]
    },
    {
      "cell_type": "code",
      "metadata": {
        "id": "Q6n5X3v0jEJM",
        "colab_type": "code",
        "outputId": "00ee99fc-ced2-4c6c-b3ca-72362d9b5e93",
        "colab": {
          "base_uri": "https://localhost:8080/",
          "height": 34
        }
      },
      "source": [
        "# Python cell that can run code\n",
        "print('Hey Guys, Welcome to the review')"
      ],
      "execution_count": 0,
      "outputs": [
        {
          "output_type": "stream",
          "text": [
            "Hey Guys, Welcome to the review\n"
          ],
          "name": "stdout"
        }
      ]
    },
    {
      "cell_type": "code",
      "metadata": {
        "id": "22lrcoStj0CY",
        "colab_type": "code",
        "outputId": "a6a0ced1-59b0-45dd-c019-fc96072f4c40",
        "colab": {
          "base_uri": "https://localhost:8080/",
          "height": 34
        }
      },
      "source": [
        "# another code cell\n",
        "var = 'We do not always need to print'\n",
        "var"
      ],
      "execution_count": 0,
      "outputs": [
        {
          "output_type": "execute_result",
          "data": {
            "text/plain": [
              "'We do not always need to print'"
            ]
          },
          "metadata": {
            "tags": []
          },
          "execution_count": 5
        }
      ]
    },
    {
      "cell_type": "markdown",
      "metadata": {
        "id": "y2pdKKjkj-mr",
        "colab_type": "text"
      },
      "source": [
        "## Test 1 Content\n",
        "**Okay, let's get started! First let's review everything from Test 1**\n",
        "\n",
        "Study Guide: http://www.cs.utexas.edu/users/mitra/csSpring2020/cs313/notes/StudyGuide1.txt\n",
        "\n",
        "Topics: \n",
        "- Classes (remember point, line, and circle) \n",
        "- Define a new class or extend a class's functionality\n",
        "- Lists: 1-D and 2-D\n",
        "- Strings\n",
        "- Tuples\n",
        "- Sets\n",
        "- Dictionaries\n",
        "- Basic Algorithms \n",
        "\n",
        "*The idea is to set you up with some basic intuition to further your knowledge in the future*\n"
      ]
    },
    {
      "cell_type": "markdown",
      "metadata": {
        "id": "2XT3PQwErWba",
        "colab_type": "text"
      },
      "source": [
        "### Classes "
      ]
    },
    {
      "cell_type": "code",
      "metadata": {
        "id": "JcYaggEqj8Ss",
        "colab_type": "code",
        "colab": {}
      },
      "source": [
        "# Create a quick class\n",
        "\n",
        "class Person(object):\n",
        "    def __init__(self, name, social_security, height):\n",
        "        '''\n",
        "        init function for person class\n",
        "        Parameters\n",
        "        ----------\n",
        "        name : str\n",
        "            The name of person\n",
        "        social_security : int\n",
        "            Person's Social Security number\n",
        "        height : int\n",
        "            Person's height in inches\n",
        "        '''\n",
        "        self.name = name\n",
        "        self.social_security = social_security\n",
        "        self.height = height \n",
        "\n",
        "    def get_height_in_ft(self):\n",
        "        return self.height / 12\n",
        "\n",
        "    # we can add more methods\n",
        "\n",
        "    def __str__(self):\n",
        "        return 'Person is named ' + self.name + ' and his social security is ' +str(self.social_security)\n",
        "    "
      ],
      "execution_count": 0,
      "outputs": []
    },
    {
      "cell_type": "code",
      "metadata": {
        "id": "uE3hS3TboS2i",
        "colab_type": "code",
        "outputId": "ebf347bb-ab71-43df-9f91-2e04c3f02a7d",
        "colab": {
          "base_uri": "https://localhost:8080/",
          "height": 34
        }
      },
      "source": [
        "vikas = Person('Vikas Peraka', 12345, 46)\n",
        "print(vikas)"
      ],
      "execution_count": 0,
      "outputs": [
        {
          "output_type": "stream",
          "text": [
            "Person is named Vikas Peraka and his social security is 12345\n"
          ],
          "name": "stdout"
        }
      ]
    },
    {
      "cell_type": "markdown",
      "metadata": {
        "id": "IqT_lN-omXN2",
        "colab_type": "text"
      },
      "source": [
        "Quick note on my documentation, it is helpful and reduces ambiguity\n",
        "\n",
        "Here is a helpful link to learn more if you want: https://realpython.com/documenting-python-code/\n"
      ]
    },
    {
      "cell_type": "code",
      "metadata": {
        "id": "b5ukfz2hmnh4",
        "colab_type": "code",
        "colab": {}
      },
      "source": [
        " # let's extend that class\n",
        " \n",
        " class Student(Person):\n",
        "    def __init__(self, eid, name, social_security, height):\n",
        "        '''\n",
        "        init function for student class\n",
        "        Parameters\n",
        "        ----------\n",
        "        eid : str\n",
        "            The eid of student\n",
        "        name : str\n",
        "            The name of person\n",
        "        social_security : int\n",
        "            Person's Social Security number\n",
        "        height : int\n",
        "            Person's height in inches\n",
        "        '''\n",
        "        # Person.__init__(self, name, social_security, height)\n",
        "        super().__init__(name, social_security, height)\n",
        "        self.eid = eid\n",
        "    \n",
        "    def __str__(self):\n",
        "        return 'Student is named ' + self.name + ' and their eid is ' + self.eid"
      ],
      "execution_count": 0,
      "outputs": []
    },
    {
      "cell_type": "code",
      "metadata": {
        "id": "tGpsU-xQneHo",
        "colab_type": "code",
        "outputId": "ef583675-39ab-4b67-f28d-e026d01c3fc0",
        "colab": {
          "base_uri": "https://localhost:8080/",
          "height": 34
        }
      },
      "source": [
        "saad = Student('sa123', 'Saad Ahmad', 98765, 73)\n",
        "print(saad)"
      ],
      "execution_count": 0,
      "outputs": [
        {
          "output_type": "stream",
          "text": [
            "Student is named Saad Ahmad and their eid is sa123\n"
          ],
          "name": "stdout"
        }
      ]
    },
    {
      "cell_type": "markdown",
      "metadata": {
        "id": "fZ5oSY86p6F6",
        "colab_type": "text"
      },
      "source": [
        "For more info and to learn more than just this little review check this link out:\n",
        "https://www.w3schools.com/python/python_inheritance.asp"
      ]
    },
    {
      "cell_type": "markdown",
      "metadata": {
        "id": "QoxkHC7MqWrC",
        "colab_type": "text"
      },
      "source": [
        "### Brief Overview of **Lists, Tuples, Sets, Dicts and Strings**\n",
        "- https://www.w3schools.com/python/python_lists.asp\n",
        "- https://www.w3schools.com/python/python_tuples.asp\n",
        "- https://www.w3schools.com/python/python_sets.asp\n",
        "- https://www.w3schools.com/python/python_dictionaries.asp\n",
        "- https://www.w3schools.com/python/python_strings.asp"
      ]
    },
    {
      "cell_type": "markdown",
      "metadata": {
        "id": "uHnqLXmMrIlr",
        "colab_type": "text"
      },
      "source": [
        "### Basic Algorithms: Linear and Binary Search"
      ]
    },
    {
      "cell_type": "code",
      "metadata": {
        "id": "CuBxjIcwqhJ9",
        "colab_type": "code",
        "colab": {}
      },
      "source": [
        "# Linear Search\n",
        "def linear_search(some_list, some_value):\n",
        "    for index, item in enumerate(some_list):\n",
        "        if item == some_value:\n",
        "            return True, index\n",
        "    return False, -1"
      ],
      "execution_count": 0,
      "outputs": []
    },
    {
      "cell_type": "code",
      "metadata": {
        "id": "WfTKGu70rtKX",
        "colab_type": "code",
        "colab": {}
      },
      "source": [
        "# Binary Search\n",
        "def binary_search(some_list, some_value):\n",
        "    high = len(some_list) - 1\n",
        "    low = 0\n",
        "    while low <= high: \n",
        "        mid = (low + high) // 2 \n",
        "        if some_list[mid] == some_value: \n",
        "            return True, mid \n",
        "        elif some_list[mid] < some_value: \n",
        "            low = mid + 1\n",
        "        else: \n",
        "            high = mid - 1\n",
        "    return False, -1"
      ],
      "execution_count": 0,
      "outputs": []
    },
    {
      "cell_type": "code",
      "metadata": {
        "id": "4OcpfUCVsdMm",
        "colab_type": "code",
        "outputId": "cee65965-f864-44a1-839f-4abbc678756f",
        "colab": {
          "base_uri": "https://localhost:8080/",
          "height": 34
        }
      },
      "source": [
        "# test linear Search\n",
        "some_list = [2, 8, 10, 3, 5, 7]\n",
        "linear_search(some_list, 10)"
      ],
      "execution_count": 0,
      "outputs": [
        {
          "output_type": "execute_result",
          "data": {
            "text/plain": [
              "(True, 2)"
            ]
          },
          "metadata": {
            "tags": []
          },
          "execution_count": 12
        }
      ]
    },
    {
      "cell_type": "code",
      "metadata": {
        "id": "XnD7-0V9stmM",
        "colab_type": "code",
        "outputId": "483b7f38-2c45-4900-fdfa-28e03405c44c",
        "colab": {
          "base_uri": "https://localhost:8080/",
          "height": 34
        }
      },
      "source": [
        "some_sorted = sorted(some_list)\n",
        "binary_search(some_sorted, 10)"
      ],
      "execution_count": 0,
      "outputs": [
        {
          "output_type": "execute_result",
          "data": {
            "text/plain": [
              "(True, 5)"
            ]
          },
          "metadata": {
            "tags": []
          },
          "execution_count": 13
        }
      ]
    },
    {
      "cell_type": "code",
      "metadata": {
        "id": "FkPz7g8cs4ww",
        "colab_type": "code",
        "colab": {}
      },
      "source": [
        "# sorting algos should be added"
      ],
      "execution_count": 0,
      "outputs": []
    },
    {
      "cell_type": "markdown",
      "metadata": {
        "id": "1l0QvcZztS93",
        "colab_type": "text"
      },
      "source": [
        "## Test 2 Content \n",
        "**Now review everything from Test 2**\n",
        "\n",
        "Study Guide: http://www.cs.utexas.edu/users/mitra/csSpring2020/cs313/notes/StudyGuide2.txt\n",
        "\n",
        "Topics: \n",
        "- Algos and Characteristics (Big O)\n",
        "- Recursion \n",
        "- Hashing\n",
        "- Stacks \n",
        "- Queues\n"
      ]
    },
    {
      "cell_type": "markdown",
      "metadata": {
        "id": "sGnzbuEguAc_",
        "colab_type": "text"
      },
      "source": [
        "### Algos and Characteristics \n",
        "Mainly **Big O** and how well your functions are running. Important for when we get bigger and bigger datasets. You do not want to be sitting overnight for things to run"
      ]
    },
    {
      "cell_type": "markdown",
      "metadata": {
        "id": "7_Bqns0duUw6",
        "colab_type": "text"
      },
      "source": [
        "### Recursion\n",
        "Go from iterative to recursive \n",
        "\n",
        "3 steps to Recursion: \n",
        "- define base case\n",
        "- make the first move \n",
        "- make the subsequent moves \n",
        "\n",
        "\n",
        "https://youtu.be/tpaLq5bDQsI"
      ]
    },
    {
      "cell_type": "code",
      "metadata": {
        "id": "5JHoNMuXtWqd",
        "colab_type": "code",
        "colab": {}
      },
      "source": [
        "# binary search (recursive)\n",
        "def rec_binary_search(some_list, some_value):\n",
        "    return binary_helper(some_list, some_value, 0, len(some_list)- 1)\n",
        "\n",
        "def binary_helper(arr, val, low, high):\n",
        "    if low <= high: \n",
        "        mid = (low + high) //2\n",
        "        if arr[mid] == val: \n",
        "            return True, mid \n",
        "        elif arr[mid] > val: \n",
        "            return binary_helper(arr, val, low, mid-1) \n",
        "        else: \n",
        "            return binary_helper(arr, val, mid+1, high)\n",
        "  \n",
        "    else: \n",
        "        # Element is not present in the array \n",
        "        return False, -1\n"
      ],
      "execution_count": 0,
      "outputs": []
    },
    {
      "cell_type": "code",
      "metadata": {
        "id": "DslhWrcxuqtV",
        "colab_type": "code",
        "outputId": "70e8be2e-4069-4710-d521-984dedf6561e",
        "colab": {
          "base_uri": "https://localhost:8080/",
          "height": 51
        }
      },
      "source": [
        "# test recursive binary search\n",
        "some_sorted = sorted(some_list)\n",
        "print(some_sorted)\n",
        "rec_binary_search(some_sorted, 10)"
      ],
      "execution_count": 0,
      "outputs": [
        {
          "output_type": "stream",
          "text": [
            "[2, 3, 5, 7, 8, 10]\n"
          ],
          "name": "stdout"
        },
        {
          "output_type": "execute_result",
          "data": {
            "text/plain": [
              "(True, 5)"
            ]
          },
          "metadata": {
            "tags": []
          },
          "execution_count": 16
        }
      ]
    },
    {
      "cell_type": "markdown",
      "metadata": {
        "id": "2uDMMAVTv_7M",
        "colab_type": "text"
      },
      "source": [
        "#### Recursive Backtracking\n",
        "Important to know, trimming paths off a decision tree, 8 queens is a great example\n",
        "\n",
        "https://www.codesdope.com/blog/article/backtracking-explanation-and-n-queens-problem/ \n",
        "\n",
        "https://www.geeksforgeeks.org/n-queen-problem-backtracking-3/"
      ]
    },
    {
      "cell_type": "markdown",
      "metadata": {
        "id": "F0I4h2R1xClo",
        "colab_type": "text"
      },
      "source": [
        "### Hashing\n",
        "Reducible Words Car Parking example\n",
        "\n",
        "https://www.geeksforgeeks.org/hashing-data-structure/\n",
        "\n",
        "https://youtu.be/v5PC0pA7XU0"
      ]
    },
    {
      "cell_type": "markdown",
      "metadata": {
        "id": "mjravyTRx5T-",
        "colab_type": "text"
      },
      "source": [
        "### Stacks and Queues\n",
        "\n",
        "https://www.geeksforgeeks.org/stack-data-structure/\n",
        "\n",
        "https://www.geeksforgeeks.org/queue-data-structure/\n",
        "\n",
        "https://youtu.be/rchKZA4Gn0Q"
      ]
    },
    {
      "cell_type": "code",
      "metadata": {
        "id": "eNvYasUWyAP_",
        "colab_type": "code",
        "colab": {}
      },
      "source": [
        "# Stack class\n",
        "class Stack(object):\n",
        "    def __init__(self):\n",
        "        self.things = []\n",
        "\n",
        "    def push(self, item):\n",
        "        self.things.append(item)\n",
        "\n",
        "    def pop(self):\n",
        "        return self.things.pop(-1)\n",
        "\n",
        "    def peek(self):\n",
        "        return self.things[-1]\n",
        "\n",
        "    def __str__(self):\n",
        "        ret = \"\"\n",
        "        for i in self.things:\n",
        "            ret += str(i)\n",
        "\n",
        "        return ret"
      ],
      "execution_count": 0,
      "outputs": []
    },
    {
      "cell_type": "markdown",
      "metadata": {
        "id": "8ipTO9NUyxmY",
        "colab_type": "text"
      },
      "source": [
        "**A cool example where stacks are used**"
      ]
    },
    {
      "cell_type": "code",
      "metadata": {
        "id": "0124-BvByorZ",
        "colab_type": "code",
        "colab": {}
      },
      "source": [
        "# Balancing Parenthesis\n",
        "# (hello)(person{123})\n",
        "def is_balanced(s):\n",
        "    # helping resources\n",
        "    braces = {'(': ')', '[':']', '{':'}', '<':'>'}\n",
        "    helper_stack = Stack()\n",
        "\n",
        "    # loop thru the string\n",
        "    for char in s:\n",
        "\n",
        "        # if open brace push\n",
        "        if char in braces.keys():\n",
        "            helper_stack.push(char)\n",
        "\n",
        "        # if closed brace pop\n",
        "        if char in braces.values():\n",
        "            temp = helper_stack.pop()\n",
        "\n",
        "            # see if it matches or extra end brace\n",
        "            if temp == None or char != braces[temp]:\n",
        "                return False\n",
        "\n",
        "    # check if stack is empty at the end\n",
        "    return helper_stack.pop() == None"
      ],
      "execution_count": 0,
      "outputs": []
    },
    {
      "cell_type": "markdown",
      "metadata": {
        "id": "yN_yx5rIzZCF",
        "colab_type": "text"
      },
      "source": [
        "**This is my Queue and it is made in a linkedlist**"
      ]
    },
    {
      "cell_type": "code",
      "metadata": {
        "id": "FPTaZWQQzYCD",
        "colab_type": "code",
        "colab": {}
      },
      "source": [
        "class Node(object):\n",
        "    def __init__(self, data = None):\n",
        "        self.data = data\n",
        "        self.next = None\n",
        "\n",
        "    def __str__(self):\n",
        "        return str(self.data)\n",
        "\n",
        "class Queue(object):\n",
        "    def __init__(self):\n",
        "        self.first = None\n",
        "\n",
        "    def enqueue(self, data):\n",
        "        to_add = Node(data)\n",
        "        if self.first == None:\n",
        "            self.first = to_add\n",
        "            return True\n",
        "        else:\n",
        "            curr = self.first\n",
        "            while curr.next is not None:\n",
        "                curr = curr.next\n",
        "            curr.next = to_add\n",
        "            return True\n",
        "        return False\n",
        "\n",
        "    def dequeue(self):\n",
        "        try:\n",
        "            ret = self.first\n",
        "            self.first = self.first.next\n",
        "            return ret\n",
        "        except:\n",
        "            return None\n",
        "\n",
        "    def __str__(self):\n",
        "        ret = \"\"\n",
        "        try:\n",
        "            curr = self.first\n",
        "            while curr.next is not None:\n",
        "                ret += str(curr.data) + \" \"\n",
        "                curr = curr.next\n",
        "            return ret + str(curr.data)\n",
        "        except:\n",
        "            return ret"
      ],
      "execution_count": 0,
      "outputs": []
    },
    {
      "cell_type": "code",
      "metadata": {
        "id": "AOpUa3sf0C8c",
        "colab_type": "code",
        "outputId": "79f476de-4bd6-4894-df7e-73dd03912891",
        "colab": {
          "base_uri": "https://localhost:8080/",
          "height": 34
        }
      },
      "source": [
        "my_q = Queue()\n",
        "my_q.enqueue(5)\n",
        "my_q.enqueue(10)\n",
        "my_q.enqueue(20)"
      ],
      "execution_count": 0,
      "outputs": [
        {
          "output_type": "execute_result",
          "data": {
            "text/plain": [
              "True"
            ]
          },
          "metadata": {
            "tags": []
          },
          "execution_count": 20
        }
      ]
    },
    {
      "cell_type": "code",
      "metadata": {
        "id": "hav86XAu0Ktx",
        "colab_type": "code",
        "outputId": "052d8cff-1e32-45e9-b8fb-67d1f983f662",
        "colab": {
          "base_uri": "https://localhost:8080/",
          "height": 34
        }
      },
      "source": [
        "print(my_q)"
      ],
      "execution_count": 0,
      "outputs": [
        {
          "output_type": "stream",
          "text": [
            "5 10 20\n"
          ],
          "name": "stdout"
        }
      ]
    },
    {
      "cell_type": "code",
      "metadata": {
        "id": "74ugAgB_0MgI",
        "colab_type": "code",
        "outputId": "03eed54d-f00b-4946-d85d-e731adc18407",
        "colab": {
          "base_uri": "https://localhost:8080/",
          "height": 34
        }
      },
      "source": [
        "print(my_q.dequeue())"
      ],
      "execution_count": 0,
      "outputs": [
        {
          "output_type": "stream",
          "text": [
            "5\n"
          ],
          "name": "stdout"
        }
      ]
    },
    {
      "cell_type": "markdown",
      "metadata": {
        "id": "qC4CXVcK0sib",
        "colab_type": "text"
      },
      "source": [
        "## Test 3 Content\n",
        "\n",
        "For the moment we've all been waiting for\n",
        "- Linked Lists\n",
        "- Binary Trees\n",
        "- Heaps\n",
        "- Graphs\n",
        "- Dynamic Programming"
      ]
    },
    {
      "cell_type": "markdown",
      "metadata": {
        "id": "6UBAoWaP1hyS",
        "colab_type": "text"
      },
      "source": [
        "### Linked Lists\n",
        "- Nodes/Links\n",
        "- Traverse \n",
        "- Add \n",
        "- Remove\n",
        "- Searching\n",
        "- Big O\n",
        "\n",
        "https://www.geeksforgeeks.org/linked-list-set-1-introduction/"
      ]
    },
    {
      "cell_type": "code",
      "metadata": {
        "id": "pd6MLCoM0wEQ",
        "colab_type": "code",
        "colab": {}
      },
      "source": [
        "# create our Link/Node class\n",
        "class Node(object):\n",
        "    def __init__(self, data = None):\n",
        "        self.data = data\n",
        "        self.next = None\n",
        "        # self.prev = None\n",
        "\n",
        "    def __str__(self):\n",
        "        return str(self.data)"
      ],
      "execution_count": 0,
      "outputs": []
    },
    {
      "cell_type": "code",
      "metadata": {
        "id": "CkQ4CkNc2F9L",
        "colab_type": "code",
        "colab": {}
      },
      "source": [
        "class LinkedList(object):\n",
        "    def __init__(self):\n",
        "        self.first = None\n",
        "    \n",
        "    def add_first(self, data):\n",
        "        to_add = Node(data)\n",
        "        if self.first == None:\n",
        "            self.first = to_add\n",
        "            return True\n",
        "        else: \n",
        "            to_add.next = self.first\n",
        "            self.first = to_add\n",
        "            return True\n",
        "        return False\n",
        "    \n",
        "    def add_last(self, data):\n",
        "        to_add = Node(data)\n",
        "        if self.first == None:\n",
        "            self.first = to_add\n",
        "            return True\n",
        "        else: \n",
        "            curr = self.first\n",
        "            while curr.next is not None:\n",
        "                # curr.next?????? why not curr\n",
        "                curr = curr.next\n",
        "            curr.next = to_add\n",
        "            return True\n",
        "        return False\n",
        "    \n",
        "    def remove_first(self):\n",
        "        try:\n",
        "            # we can rewrite with an if statement\n",
        "            # if self.first == None\n",
        "            ret = self.first\n",
        "            self.first = self.first.next\n",
        "            return ret\n",
        "        except:\n",
        "            return None\n",
        "\n",
        "    def remove(self, data):\n",
        "        if self.first == None:\n",
        "            return False\n",
        "        if self.first.data == data:\n",
        "            self.first = self.first.next\n",
        "            return True\n",
        "        \n",
        "        curr = self.first\n",
        "        prev = self.first\n",
        "\n",
        "        while curr is not None:  \n",
        "            if curr.data == data:  \n",
        "                break\n",
        "            prev = curr  \n",
        "            curr = curr.next\n",
        "\n",
        "        if curr == None:\n",
        "            return False\n",
        "\n",
        "        prev.next = curr.next\n",
        "\n",
        "    def find(self, data):\n",
        "        curr = self.first\n",
        "        while curr is not None:  \n",
        "            if curr.data == data:\n",
        "                return True\n",
        "        return False\n",
        "\n",
        "\n",
        "    def __str__(self):\n",
        "        ret = \"\"\n",
        "        try:\n",
        "            curr = self.first\n",
        "            while curr.next is not None:\n",
        "                ret += str(curr.data) + \" \"\n",
        "                curr = curr.next\n",
        "            return ret + str(curr.data)\n",
        "        except:\n",
        "            return ret"
      ],
      "execution_count": 0,
      "outputs": []
    },
    {
      "cell_type": "code",
      "metadata": {
        "id": "pae527EqQHd3",
        "colab_type": "code",
        "outputId": "d9a9ed1c-bc92-452b-a83a-bb6762c88cf0",
        "colab": {
          "base_uri": "https://localhost:8080/",
          "height": 85
        }
      },
      "source": [
        "# object do not equal each other unless you make a dedicated equals function\n",
        "print(vikas)\n",
        "vikas2 = Person('Vikas Peraka', 12345, 46)\n",
        "print(vikas2)\n",
        "print(vikas == vikas2)\n",
        "print(vikas.name == vikas2.name)"
      ],
      "execution_count": 0,
      "outputs": [
        {
          "output_type": "stream",
          "text": [
            "Person is named Vikas Peraka and his social security is 12345\n",
            "Person is named Vikas Peraka and his social security is 12345\n",
            "False\n",
            "True\n"
          ],
          "name": "stdout"
        }
      ]
    },
    {
      "cell_type": "markdown",
      "metadata": {
        "id": "1iagEmYS5cl0",
        "colab_type": "text"
      },
      "source": [
        "**Problem to Try:** Reverse a linkedlist "
      ]
    },
    {
      "cell_type": "markdown",
      "metadata": {
        "id": "N6BSeNvySZPu",
        "colab_type": "text"
      },
      "source": [
        "1 2 3 4 5 \n",
        "\n",
        "5 4 3 2 1 "
      ]
    },
    {
      "cell_type": "markdown",
      "metadata": {
        "id": "iPVNaUuW5Xx8",
        "colab_type": "text"
      },
      "source": [
        "### Binary Trees BST\n",
        "- Nodes\n",
        "- Adding \n",
        "- Removing (up to you)\n",
        "- Searching (up to you)\n",
        "- Big O\n",
        "\n",
        "https://www.geeksforgeeks.org/binary-search-tree-data-structure"
      ]
    },
    {
      "cell_type": "code",
      "metadata": {
        "id": "_Gn7Cvf25r-1",
        "colab_type": "code",
        "colab": {}
      },
      "source": [
        "class Node(object):\n",
        "    def __init__(self, data):\n",
        "        self.data = data\n",
        "        self.lchild = None\n",
        "        self.rchild = None\n",
        "    \n",
        "    def is_leaf (self):\n",
        "        return self.rchild == None and self.lchild == None\n",
        "\n",
        "class Tree(object):\n",
        "    def __init__(self):\n",
        "        self.root = None\n",
        "        \n",
        "    def insert (self, val):\n",
        "        new_node = Node (val)\n",
        "        \n",
        "        if self.root == None:\n",
        "            self.root = new_node\n",
        "            return True\n",
        "        else:\n",
        "            current = self.root\n",
        "            parent = self.root\n",
        "            while current != None:\n",
        "                parent = current\n",
        "                \n",
        "                if val < current.data:\n",
        "                    current = current.lchild\n",
        "                else:\n",
        "                    current = current.rchild\n",
        "        \n",
        "            if (val < parent.data):\n",
        "                parent.lchild = new_node\n",
        "            else:\n",
        "                parent.rchild = new_node\n",
        "            return True\n",
        "        \n",
        "        return False\n",
        "\n",
        "    def get_height (self): \n",
        "        return self.get_height_helper(self.root)\n",
        "\n",
        "    def get_height_helper(self, anode):\n",
        "        if anode == None:\n",
        "            return 0\n",
        "        else:\n",
        "            lheight = self.get_height_helper(anode.lchild)\n",
        "            rheight = self.get_height_helper(anode.rchild)\n",
        "        higher = max(lheight, rheight)\n",
        "        return higher + 1\n",
        "\n",
        "    # TODO: Write Traversals\n",
        "    def inorder(self, node):\n",
        "        if node != None:\n",
        "            self.inorder(node.lchild)\n",
        "            print(node.data)\n",
        "            self.inorder(node.rchild)\n",
        "        "
      ],
      "execution_count": 0,
      "outputs": []
    },
    {
      "cell_type": "markdown",
      "metadata": {
        "id": "gO5kBu_Q8lxa",
        "colab_type": "text"
      },
      "source": [
        "**Try writing methods to remove a leaf and search for something in a tree**"
      ]
    },
    {
      "cell_type": "markdown",
      "metadata": {
        "id": "wIIK6yjD9Wy6",
        "colab_type": "text"
      },
      "source": [
        "#### AVL Trees\n",
        "Used to balance trees \n",
        "- https://www.cs.usfca.edu/~galles/visualization/AVLtree.html\n",
        "- https://www.geeksforgeeks.org/avl-tree-set-1-insertion/\n",
        "\n"
      ]
    },
    {
      "cell_type": "markdown",
      "metadata": {
        "id": "N0GUDOGn_SvW",
        "colab_type": "text"
      },
      "source": [
        "### Heaps\n",
        "\n",
        "Just know how to use it \n",
        "https://www.geeksforgeeks.org/heap-sort/\n"
      ]
    },
    {
      "cell_type": "markdown",
      "metadata": {
        "id": "eDKBERjaAc2r",
        "colab_type": "text"
      },
      "source": [
        "### Graphs\n",
        "- Depth First Search (DFS) \n",
        "- Breadth First Search (BFS)\n",
        "- Topological Sort\n",
        "- Minimum Cost Spanning Tree using Kruskal's and Prim's algorithm\n",
        "- Dijkstra's Single Source Shortest Path algorithm\n",
        "\n",
        "\n",
        "https://www.geeksforgeeks.org/graph-and-its-representations/\n",
        "\n",
        "https://www.geeksforgeeks.org/kruskals-minimum-spanning-tree-algorithm-greedy-algo-2/\n",
        "\n",
        "https://www.geeksforgeeks.org/prims-minimum-spanning-tree-mst-greedy-algo-5/\n"
      ]
    },
    {
      "cell_type": "code",
      "metadata": {
        "id": "JW-3fZiYAfBN",
        "colab_type": "code",
        "colab": {}
      },
      "source": [
        "class Vertex (object):\n",
        "    def __init__(self, label):\n",
        "        self.label = label\n",
        "        self.visited = False\n",
        "\n",
        "    def was_visited (self):\n",
        "        return self.visited\n",
        "    \n",
        "    def get_label (self):\n",
        "        return self.label\n",
        "    \n",
        "    def __str__(self):\n",
        "        return str(self.label)\n",
        "\n",
        "class Graph (object):\n",
        "    def __init__(self):\n",
        "        self.Vertices = []\n",
        "        self.adjMat = []\n"
      ],
      "execution_count": 0,
      "outputs": []
    },
    {
      "cell_type": "markdown",
      "metadata": {
        "id": "dwL1jdZnNThN",
        "colab_type": "text"
      },
      "source": [
        "### Dynamic Programming\n",
        "\n",
        "Greedy Algo is finds the local optimal and moves based on that, some common examples of greedy algos are Dijkstra's and Prims\n",
        "\n",
        "Brute force tries every solution, can be time consuming \n",
        "\n",
        "Dynamic Programming finds the local optimal at each step and puts it all together to get the global optimal"
      ]
    },
    {
      "cell_type": "markdown",
      "metadata": {
        "id": "XeSwsMZvODOh",
        "colab_type": "text"
      },
      "source": [
        "The bottles problem: \n",
        "\n",
        "You can't drink from adjacent bottles but you want to drink the most, keep a memo at each step and see if drinking from the current bottle and the one previous is better or drinking from the next bottle is better. "
      ]
    },
    {
      "cell_type": "markdown",
      "metadata": {
        "id": "8xwD3tkwOn3d",
        "colab_type": "text"
      },
      "source": [
        "Knapsack problem: https://www.youtube.com/watch?v=xOlhR_2QCXY"
      ]
    },
    {
      "cell_type": "markdown",
      "metadata": {
        "id": "vPxFgJwrOu5Y",
        "colab_type": "text"
      },
      "source": [
        "## How to Tackle Errors and Coding Under Pressure\n",
        "So I've been in your shoes, coding under a time constraint has always stressed me out but I do a couple of simple things help myself deal with the stress"
      ]
    },
    {
      "cell_type": "code",
      "metadata": {
        "id": "Z53Iy70fPDLQ",
        "colab_type": "code",
        "colab": {}
      },
      "source": [
        "# always print types for the parameters\n",
        "def func(x, y):\n",
        "    print(type(x))\n",
        "    print(type(y))"
      ],
      "execution_count": 0,
      "outputs": []
    },
    {
      "cell_type": "markdown",
      "metadata": {
        "id": "iqNGkICPPU-2",
        "colab_type": "text"
      },
      "source": [
        "This helps me see what is passed into a function, whether it is a list or a linked list, etc"
      ]
    },
    {
      "cell_type": "code",
      "metadata": {
        "id": "GrET22-sPbY7",
        "colab_type": "code",
        "colab": {}
      },
      "source": [
        "# if there is an error, always focus on the line of the error or the lines right above it \n",
        "def func2(x, y):\n",
        "    while x < z: \n",
        "        print(x)\n",
        "        x += 1\n",
        "\n",
        "func2(x, y)"
      ],
      "execution_count": 0,
      "outputs": []
    },
    {
      "cell_type": "markdown",
      "metadata": {
        "id": "YqpVS8WPQm_-",
        "colab_type": "text"
      },
      "source": [
        "Debugging Trick (from Vikas) at the bottom of the Office Hours Document\n",
        "\n",
        "https://docs.google.com/document/d/1iGnXWfOdmm0RncBw-d4a1ESRLKaT06cAahMxEo2e-fs/edit\n",
        "\n",
        "\n"
      ]
    },
    {
      "cell_type": "markdown",
      "metadata": {
        "id": "XNOO0NpdRuqj",
        "colab_type": "text"
      },
      "source": [
        "Try to break down the problem step by step. No shame in talking it out or having a conversation on a piece of paper of what you are thinking \n",
        "\n",
        "Ask yourself what data structures are you using, what loops are there gonna be \n",
        "\n",
        "Ask what the goal of the function is and how you may want to approach it \n",
        "\n",
        "Ask lots of questions and take it a step at a time. No one is born coding, you got this, I truly believe in each and everyone of you\n",
        "\n",
        "And if it doesn't work, take a deep breath and ask what happened. Answer that question and try again\n",
        "\n",
        "We didn't get to the moon in one try, you may not get the answer in one try. Doesn't mean you can give up! \n",
        "\n",
        "I wish y'all the best as always"
      ]
    }
  ]
}